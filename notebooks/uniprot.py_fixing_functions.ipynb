{
 "cells": [
  {
   "cell_type": "code",
   "execution_count": 6,
   "id": "b9d3a7e7",
   "metadata": {},
   "outputs": [],
   "source": [
    "import requests\n",
    "import pandas as pd\n",
    "import logging"
   ]
  },
  {
   "cell_type": "markdown",
   "id": "a89f261a",
   "metadata": {},
   "source": [
    "### The uniprot.py file in the \"go\" folder of the go2pdb package was not working, most of this is due to the fact that uniprot seems to have updated their rest url API, so the current url's are invalid. Here we will be updating them and testing them."
   ]
  },
  {
   "cell_type": "markdown",
   "id": "e528d6ee",
   "metadata": {},
   "source": [
    "### search_go"
   ]
  },
  {
   "cell_type": "markdown",
   "id": "66b7ed47",
   "metadata": {},
   "source": [
    "Following this link, https://www.uniprot.org/help/api_queries, contains info on generating the appropriate rest URL's for the desired queries. Here is an example query for searching all uniprot id's by go code 0016151 AND that contain pdb entries: https://www.uniprot.org/uniprotkb?query=pdb%20AND%20%28go%3A0016151%29"
   ]
  },
  {
   "cell_type": "markdown",
   "id": "ea52169e",
   "metadata": {},
   "source": [
    "The query returns 97 results. Specifying the pdb in the search is important as we want the results to have the 3d structural information available for when we map them later on in the script."
   ]
  },
  {
   "cell_type": "code",
   "execution_count": 49,
   "id": "14e56fbf",
   "metadata": {},
   "outputs": [],
   "source": [
    "_LOGGER = logging.getLogger(__name__)\n",
    "SEARCH_GO_URL = \"https://rest.uniprot.org/uniprotkb/stream?fields=accession%2Cid%2Cprotein_name&format=tsv&query=pdb%20go%3A{go}\""
   ]
  },
  {
   "cell_type": "code",
   "execution_count": 50,
   "id": "f7ac4279",
   "metadata": {},
   "outputs": [],
   "source": [
    "def search_go(go_codes, ssl_verify) -> pd.DataFrame:\n",
    "    \"\"\"Search UniProt by GO code.\n",
    "\n",
    "    :param list go_codes:  list of GO codes to search\n",
    "    :param bool ssl_verify:  does SSL work?\n",
    "    :returns:  UniProt IDs and additional information\n",
    "    \"\"\"\n",
    "    rows = []\n",
    "    for go_code in go_codes:\n",
    "        _, code = go_code.split(\":\")\n",
    "        search_url = SEARCH_GO_URL.format(go=code)\n",
    "        req = requests.get(search_url, verify=ssl_verify)\n",
    "        lines = req.text.splitlines()\n",
    "        rows += [line.split(\"\\t\") + [go_code] for line in lines[1:]]\n",
    "    df = pd.DataFrame(\n",
    "        data=rows,\n",
    "        columns=[\n",
    "            \"UniProt entry ID\",\n",
    "            \"UniProt entry name\",\n",
    "            \"UniProt protein names\",\n",
    "            \"UniProt GO code\",\n",
    "        ],\n",
    "    )\n",
    "    return df.drop_duplicates(ignore_index=True)\n"
   ]
  },
  {
   "cell_type": "markdown",
   "id": "6fc8d65d",
   "metadata": {},
   "source": [
    "Testing the function using GO:0016151 (nickel cation binding)"
   ]
  },
  {
   "cell_type": "code",
   "execution_count": 51,
   "id": "63169131",
   "metadata": {},
   "outputs": [],
   "source": [
    "nickel_go = search_go([\"GO:0016151\"], True)"
   ]
  },
  {
   "cell_type": "code",
   "execution_count": 52,
   "id": "098c2b96",
   "metadata": {},
   "outputs": [
    {
     "data": {
      "text/html": [
       "<div>\n",
       "<style scoped>\n",
       "    .dataframe tbody tr th:only-of-type {\n",
       "        vertical-align: middle;\n",
       "    }\n",
       "\n",
       "    .dataframe tbody tr th {\n",
       "        vertical-align: top;\n",
       "    }\n",
       "\n",
       "    .dataframe thead th {\n",
       "        text-align: right;\n",
       "    }\n",
       "</style>\n",
       "<table border=\"1\" class=\"dataframe\">\n",
       "  <thead>\n",
       "    <tr style=\"text-align: right;\">\n",
       "      <th></th>\n",
       "      <th>UniProt entry ID</th>\n",
       "      <th>UniProt entry name</th>\n",
       "      <th>UniProt protein names</th>\n",
       "      <th>UniProt GO code</th>\n",
       "    </tr>\n",
       "  </thead>\n",
       "  <tbody>\n",
       "    <tr>\n",
       "      <th>0</th>\n",
       "      <td>O25560</td>\n",
       "      <td>HYPB_HELPY</td>\n",
       "      <td>Hydrogenase/urease maturation factor HypB (Hyd...</td>\n",
       "      <td>GO:0016151</td>\n",
       "    </tr>\n",
       "    <tr>\n",
       "      <th>1</th>\n",
       "      <td>O33599</td>\n",
       "      <td>LYTM_STAA8</td>\n",
       "      <td>Glycyl-glycine endopeptidase LytM, EC 3.4.24.7...</td>\n",
       "      <td>GO:0016151</td>\n",
       "    </tr>\n",
       "    <tr>\n",
       "      <th>2</th>\n",
       "      <td>P04905</td>\n",
       "      <td>GSTM1_RAT</td>\n",
       "      <td>Glutathione S-transferase Mu 1, EC 2.5.1.18 (G...</td>\n",
       "      <td>GO:0016151</td>\n",
       "    </tr>\n",
       "    <tr>\n",
       "      <th>3</th>\n",
       "      <td>P07374</td>\n",
       "      <td>UREA_CANEN</td>\n",
       "      <td>Urease, EC 3.5.1.5 (Jack bean urease, JBU) (Ur...</td>\n",
       "      <td>GO:0016151</td>\n",
       "    </tr>\n",
       "    <tr>\n",
       "      <th>4</th>\n",
       "      <td>P07451</td>\n",
       "      <td>CAH3_HUMAN</td>\n",
       "      <td>Carbonic anhydrase 3, EC 4.2.1.1 (Carbonate de...</td>\n",
       "      <td>GO:0016151</td>\n",
       "    </tr>\n",
       "    <tr>\n",
       "      <th>...</th>\n",
       "      <td>...</td>\n",
       "      <td>...</td>\n",
       "      <td>...</td>\n",
       "      <td>...</td>\n",
       "    </tr>\n",
       "    <tr>\n",
       "      <th>92</th>\n",
       "      <td>Q8ZPH0</td>\n",
       "      <td>Q8ZPH0_SALTY</td>\n",
       "      <td>Putative hydrogenase-1 large subunit, EC 1.12.7.2</td>\n",
       "      <td>GO:0016151</td>\n",
       "    </tr>\n",
       "    <tr>\n",
       "      <th>93</th>\n",
       "      <td>Q92YH7</td>\n",
       "      <td>Q92YH7_RHIME</td>\n",
       "      <td>ABC transporter, periplasmic solute-binding pr...</td>\n",
       "      <td>GO:0016151</td>\n",
       "    </tr>\n",
       "    <tr>\n",
       "      <th>94</th>\n",
       "      <td>Q9L868</td>\n",
       "      <td>Q9L868_DESDE</td>\n",
       "      <td>[NiFe] hydrogenase large subunit</td>\n",
       "      <td>GO:0016151</td>\n",
       "    </tr>\n",
       "    <tr>\n",
       "      <th>95</th>\n",
       "      <td>U5RTE2</td>\n",
       "      <td>U5RTE2_9CLOT</td>\n",
       "      <td>Carbon-monoxide dehydrogenase (Acceptor), EC 1...</td>\n",
       "      <td>GO:0016151</td>\n",
       "    </tr>\n",
       "    <tr>\n",
       "      <th>96</th>\n",
       "      <td>V0V766</td>\n",
       "      <td>V0V766_ECOLX</td>\n",
       "      <td>Hydrogenase-2 large chain</td>\n",
       "      <td>GO:0016151</td>\n",
       "    </tr>\n",
       "  </tbody>\n",
       "</table>\n",
       "<p>97 rows × 4 columns</p>\n",
       "</div>"
      ],
      "text/plain": [
       "   UniProt entry ID UniProt entry name  \\\n",
       "0            O25560         HYPB_HELPY   \n",
       "1            O33599         LYTM_STAA8   \n",
       "2            P04905          GSTM1_RAT   \n",
       "3            P07374         UREA_CANEN   \n",
       "4            P07451         CAH3_HUMAN   \n",
       "..              ...                ...   \n",
       "92           Q8ZPH0       Q8ZPH0_SALTY   \n",
       "93           Q92YH7       Q92YH7_RHIME   \n",
       "94           Q9L868       Q9L868_DESDE   \n",
       "95           U5RTE2       U5RTE2_9CLOT   \n",
       "96           V0V766       V0V766_ECOLX   \n",
       "\n",
       "                                UniProt protein names UniProt GO code  \n",
       "0   Hydrogenase/urease maturation factor HypB (Hyd...      GO:0016151  \n",
       "1   Glycyl-glycine endopeptidase LytM, EC 3.4.24.7...      GO:0016151  \n",
       "2   Glutathione S-transferase Mu 1, EC 2.5.1.18 (G...      GO:0016151  \n",
       "3   Urease, EC 3.5.1.5 (Jack bean urease, JBU) (Ur...      GO:0016151  \n",
       "4   Carbonic anhydrase 3, EC 4.2.1.1 (Carbonate de...      GO:0016151  \n",
       "..                                                ...             ...  \n",
       "92  Putative hydrogenase-1 large subunit, EC 1.12.7.2      GO:0016151  \n",
       "93  ABC transporter, periplasmic solute-binding pr...      GO:0016151  \n",
       "94                   [NiFe] hydrogenase large subunit      GO:0016151  \n",
       "95  Carbon-monoxide dehydrogenase (Acceptor), EC 1...      GO:0016151  \n",
       "96                          Hydrogenase-2 large chain      GO:0016151  \n",
       "\n",
       "[97 rows x 4 columns]"
      ]
     },
     "execution_count": 52,
     "metadata": {},
     "output_type": "execute_result"
    }
   ],
   "source": [
    "nickel_go"
   ]
  },
  {
   "cell_type": "markdown",
   "id": "2741f7f2",
   "metadata": {},
   "source": [
    "We get the same 97 results as we did in the manual query on the website."
   ]
  },
  {
   "cell_type": "markdown",
   "id": "f443141f",
   "metadata": {},
   "source": [
    "### search_id"
   ]
  },
  {
   "cell_type": "markdown",
   "id": "5f40a4fb",
   "metadata": {},
   "source": [
    "The steps to obtain the new url here are essentially the same as for the search_go function, in terms of querying a search on the site and generating the api url. This url uses the keyword \"accession\". Here is an example of how it looks on the site if searching for the uniprot id \"P85092\": https://www.uniprot.org/uniprotkb?query=(accession:P85092)"
   ]
  },
  {
   "cell_type": "code",
   "execution_count": 31,
   "id": "1d1eac66",
   "metadata": {},
   "outputs": [],
   "source": [
    "SEARCH_ID_URL = \"https://rest.uniprot.org/uniprotkb/stream?fields=accession%2Cid%2Cprotein_name&format=tsv&query=%28accession%3A{id}%29\""
   ]
  },
  {
   "cell_type": "code",
   "execution_count": 32,
   "id": "7e6a45ef",
   "metadata": {},
   "outputs": [],
   "source": [
    "def search_id(uniprot_ids, ssl_verify) -> pd.DataFrame:\n",
    "    \"\"\"Search UniProt by ID.\n",
    "\n",
    "    :param list uniprot_ids:  list of UniProt IDs to search\n",
    "    :param bool ssl_verify:  does SSL work?\n",
    "    :returns:  UniProt IDs and additional information\n",
    "    \"\"\"\n",
    "    rows = []\n",
    "    for uni_id in uniprot_ids:\n",
    "        search_url = SEARCH_ID_URL.format(id=uni_id)\n",
    "        req = requests.get(search_url, verify=ssl_verify)\n",
    "        lines = req.text.splitlines()\n",
    "        rows += [line.split(\"\\t\") for line in lines[1:]]\n",
    "    df = pd.DataFrame(\n",
    "        data=rows,\n",
    "        columns=[\n",
    "            \"UniProt entry ID\",\n",
    "            \"UniProt entry name\",\n",
    "            \"UniProt protein names\",\n",
    "        ],\n",
    "    )\n",
    "    return df.drop_duplicates(ignore_index=True)"
   ]
  },
  {
   "cell_type": "markdown",
   "id": "83b0c09c",
   "metadata": {},
   "source": [
    "We will just use the id's from the previous result to test this function"
   ]
  },
  {
   "cell_type": "code",
   "execution_count": 59,
   "id": "9963caa5",
   "metadata": {},
   "outputs": [],
   "source": [
    "nickel_id = search_id(nickel_go['UniProt entry ID'], True)"
   ]
  },
  {
   "cell_type": "code",
   "execution_count": 60,
   "id": "7c36ed15",
   "metadata": {},
   "outputs": [
    {
     "data": {
      "text/html": [
       "<div>\n",
       "<style scoped>\n",
       "    .dataframe tbody tr th:only-of-type {\n",
       "        vertical-align: middle;\n",
       "    }\n",
       "\n",
       "    .dataframe tbody tr th {\n",
       "        vertical-align: top;\n",
       "    }\n",
       "\n",
       "    .dataframe thead th {\n",
       "        text-align: right;\n",
       "    }\n",
       "</style>\n",
       "<table border=\"1\" class=\"dataframe\">\n",
       "  <thead>\n",
       "    <tr style=\"text-align: right;\">\n",
       "      <th></th>\n",
       "      <th>UniProt entry ID</th>\n",
       "      <th>UniProt entry name</th>\n",
       "      <th>UniProt protein names</th>\n",
       "    </tr>\n",
       "  </thead>\n",
       "  <tbody>\n",
       "    <tr>\n",
       "      <th>0</th>\n",
       "      <td>O25560</td>\n",
       "      <td>HYPB_HELPY</td>\n",
       "      <td>Hydrogenase/urease maturation factor HypB (Hyd...</td>\n",
       "    </tr>\n",
       "    <tr>\n",
       "      <th>1</th>\n",
       "      <td>O33599</td>\n",
       "      <td>LYTM_STAA8</td>\n",
       "      <td>Glycyl-glycine endopeptidase LytM, EC 3.4.24.7...</td>\n",
       "    </tr>\n",
       "    <tr>\n",
       "      <th>2</th>\n",
       "      <td>P04905</td>\n",
       "      <td>GSTM1_RAT</td>\n",
       "      <td>Glutathione S-transferase Mu 1, EC 2.5.1.18 (G...</td>\n",
       "    </tr>\n",
       "    <tr>\n",
       "      <th>3</th>\n",
       "      <td>P07374</td>\n",
       "      <td>UREA_CANEN</td>\n",
       "      <td>Urease, EC 3.5.1.5 (Jack bean urease, JBU) (Ur...</td>\n",
       "    </tr>\n",
       "    <tr>\n",
       "      <th>4</th>\n",
       "      <td>P07451</td>\n",
       "      <td>CAH3_HUMAN</td>\n",
       "      <td>Carbonic anhydrase 3, EC 4.2.1.1 (Carbonate de...</td>\n",
       "    </tr>\n",
       "    <tr>\n",
       "      <th>...</th>\n",
       "      <td>...</td>\n",
       "      <td>...</td>\n",
       "      <td>...</td>\n",
       "    </tr>\n",
       "    <tr>\n",
       "      <th>92</th>\n",
       "      <td>Q8ZPH0</td>\n",
       "      <td>Q8ZPH0_SALTY</td>\n",
       "      <td>Putative hydrogenase-1 large subunit, EC 1.12.7.2</td>\n",
       "    </tr>\n",
       "    <tr>\n",
       "      <th>93</th>\n",
       "      <td>Q92YH7</td>\n",
       "      <td>Q92YH7_RHIME</td>\n",
       "      <td>ABC transporter, periplasmic solute-binding pr...</td>\n",
       "    </tr>\n",
       "    <tr>\n",
       "      <th>94</th>\n",
       "      <td>Q9L868</td>\n",
       "      <td>Q9L868_DESDE</td>\n",
       "      <td>[NiFe] hydrogenase large subunit</td>\n",
       "    </tr>\n",
       "    <tr>\n",
       "      <th>95</th>\n",
       "      <td>U5RTE2</td>\n",
       "      <td>U5RTE2_9CLOT</td>\n",
       "      <td>Carbon-monoxide dehydrogenase (Acceptor), EC 1...</td>\n",
       "    </tr>\n",
       "    <tr>\n",
       "      <th>96</th>\n",
       "      <td>V0V766</td>\n",
       "      <td>V0V766_ECOLX</td>\n",
       "      <td>Hydrogenase-2 large chain</td>\n",
       "    </tr>\n",
       "  </tbody>\n",
       "</table>\n",
       "<p>97 rows × 3 columns</p>\n",
       "</div>"
      ],
      "text/plain": [
       "   UniProt entry ID UniProt entry name  \\\n",
       "0            O25560         HYPB_HELPY   \n",
       "1            O33599         LYTM_STAA8   \n",
       "2            P04905          GSTM1_RAT   \n",
       "3            P07374         UREA_CANEN   \n",
       "4            P07451         CAH3_HUMAN   \n",
       "..              ...                ...   \n",
       "92           Q8ZPH0       Q8ZPH0_SALTY   \n",
       "93           Q92YH7       Q92YH7_RHIME   \n",
       "94           Q9L868       Q9L868_DESDE   \n",
       "95           U5RTE2       U5RTE2_9CLOT   \n",
       "96           V0V766       V0V766_ECOLX   \n",
       "\n",
       "                                UniProt protein names  \n",
       "0   Hydrogenase/urease maturation factor HypB (Hyd...  \n",
       "1   Glycyl-glycine endopeptidase LytM, EC 3.4.24.7...  \n",
       "2   Glutathione S-transferase Mu 1, EC 2.5.1.18 (G...  \n",
       "3   Urease, EC 3.5.1.5 (Jack bean urease, JBU) (Ur...  \n",
       "4   Carbonic anhydrase 3, EC 4.2.1.1 (Carbonate de...  \n",
       "..                                                ...  \n",
       "92  Putative hydrogenase-1 large subunit, EC 1.12.7.2  \n",
       "93  ABC transporter, periplasmic solute-binding pr...  \n",
       "94                   [NiFe] hydrogenase large subunit  \n",
       "95  Carbon-monoxide dehydrogenase (Acceptor), EC 1...  \n",
       "96                          Hydrogenase-2 large chain  \n",
       "\n",
       "[97 rows x 3 columns]"
      ]
     },
     "execution_count": 60,
     "metadata": {},
     "output_type": "execute_result"
    }
   ],
   "source": [
    "nickel_id"
   ]
  },
  {
   "cell_type": "markdown",
   "id": "0de76ea2",
   "metadata": {},
   "source": [
    "### get_pdb_ids"
   ]
  },
  {
   "cell_type": "markdown",
   "id": "e7846e01",
   "metadata": {},
   "source": [
    "The get_pdb_ids function was a little more in depth, in terms of not only updating the url but also the parameters that get called to map the pdb ids on the site. We now have a url that is responsible for submitting the mapping request (annotated by a job id), and then we need to use a subsequent url with the job id to retrieve the data."
   ]
  },
  {
   "cell_type": "code",
   "execution_count": 88,
   "id": "776233b4",
   "metadata": {},
   "outputs": [],
   "source": [
    "#url to initate mapping job\n",
    "MAPPING_URL = \"https://rest.uniprot.org/idmapping/run\"\n",
    "\n",
    "#url to retrieve data from mapping job\n",
    "MAPPING_DATA_URL = \"https://rest.uniprot.org/idmapping/stream/{jobId}?format=tsv\""
   ]
  },
  {
   "cell_type": "code",
   "execution_count": 89,
   "id": "9935d9b7",
   "metadata": {},
   "outputs": [],
   "source": [
    "def get_pdb_ids(uniprot_ids, ssl_verify) -> pd.DataFrame:\n",
    "    \"\"\"Get PDB IDs corresponding to UniProt IDs.\n",
    "\n",
    "    :param list uniprot_ids:  list of UniProt IDs.\n",
    "    :param bool ssl_verify:  does SSL work?\n",
    "    :returns:  mapping of UniProt IDs to PDB IDs.\n",
    "    \"\"\"\n",
    "    #updating correct parameters\n",
    "    params = {\n",
    "        \"from\": \"UniProtKB_AC-ID\",\n",
    "        \"to\": \"PDB\",\n",
    "        \"ids\": \" \".join(uniprot_ids),\n",
    "    }\n",
    "    \n",
    "    #Initializing the mapping request and grabbing the jobid\n",
    "    req = requests.post(MAPPING_URL, data=params, verify=ssl_verify)\n",
    "    req_json = req.json()\n",
    "    job_id = req_json[\"jobId\"]\n",
    "    \n",
    "    #retrieving the data using the jobid\n",
    "    data_url = MAPPING_DATA_URL.format(jobId=job_id)\n",
    "    data_req = requests.get(data_url)\n",
    "    \n",
    "    lines = data_req.text.splitlines()\n",
    "    rows = [line.split(\"\\t\") for line in lines[1:]]\n",
    "    df = pd.DataFrame(data=rows, columns=[\"UniProt entry ID\", \"PDB ID\"])\n",
    "    return df.drop_duplicates(ignore_index=True)"
   ]
  },
  {
   "cell_type": "markdown",
   "id": "803287b0",
   "metadata": {},
   "source": [
    "Testing on the list of uniprot ids from before"
   ]
  },
  {
   "cell_type": "code",
   "execution_count": 96,
   "id": "e5e107d3",
   "metadata": {},
   "outputs": [],
   "source": [
    "nickel_pdb = get_pdb_ids(nickel_id['UniProt entry ID'], True)"
   ]
  },
  {
   "cell_type": "code",
   "execution_count": 97,
   "id": "6968d6df",
   "metadata": {},
   "outputs": [
    {
     "data": {
      "text/html": [
       "<div>\n",
       "<style scoped>\n",
       "    .dataframe tbody tr th:only-of-type {\n",
       "        vertical-align: middle;\n",
       "    }\n",
       "\n",
       "    .dataframe tbody tr th {\n",
       "        vertical-align: top;\n",
       "    }\n",
       "\n",
       "    .dataframe thead th {\n",
       "        text-align: right;\n",
       "    }\n",
       "</style>\n",
       "<table border=\"1\" class=\"dataframe\">\n",
       "  <thead>\n",
       "    <tr style=\"text-align: right;\">\n",
       "      <th></th>\n",
       "      <th>UniProt entry ID</th>\n",
       "      <th>PDB ID</th>\n",
       "    </tr>\n",
       "  </thead>\n",
       "  <tbody>\n",
       "    <tr>\n",
       "      <th>0</th>\n",
       "      <td>O25560</td>\n",
       "      <td>4LPS</td>\n",
       "    </tr>\n",
       "    <tr>\n",
       "      <th>1</th>\n",
       "      <td>O33599</td>\n",
       "      <td>1QWY</td>\n",
       "    </tr>\n",
       "    <tr>\n",
       "      <th>2</th>\n",
       "      <td>O33599</td>\n",
       "      <td>2B0P</td>\n",
       "    </tr>\n",
       "    <tr>\n",
       "      <th>3</th>\n",
       "      <td>O33599</td>\n",
       "      <td>2B13</td>\n",
       "    </tr>\n",
       "    <tr>\n",
       "      <th>4</th>\n",
       "      <td>O33599</td>\n",
       "      <td>2B44</td>\n",
       "    </tr>\n",
       "    <tr>\n",
       "      <th>...</th>\n",
       "      <td>...</td>\n",
       "      <td>...</td>\n",
       "    </tr>\n",
       "    <tr>\n",
       "      <th>523</th>\n",
       "      <td>U5RTE2</td>\n",
       "      <td>6YU9</td>\n",
       "    </tr>\n",
       "    <tr>\n",
       "      <th>524</th>\n",
       "      <td>U5RTE2</td>\n",
       "      <td>6YUA</td>\n",
       "    </tr>\n",
       "    <tr>\n",
       "      <th>525</th>\n",
       "      <td>V0V766</td>\n",
       "      <td>6SYX</td>\n",
       "    </tr>\n",
       "    <tr>\n",
       "      <th>526</th>\n",
       "      <td>V0V766</td>\n",
       "      <td>6SZD</td>\n",
       "    </tr>\n",
       "    <tr>\n",
       "      <th>527</th>\n",
       "      <td>V0V766</td>\n",
       "      <td>6SZK</td>\n",
       "    </tr>\n",
       "  </tbody>\n",
       "</table>\n",
       "<p>528 rows × 2 columns</p>\n",
       "</div>"
      ],
      "text/plain": [
       "    UniProt entry ID PDB ID\n",
       "0             O25560   4LPS\n",
       "1             O33599   1QWY\n",
       "2             O33599   2B0P\n",
       "3             O33599   2B13\n",
       "4             O33599   2B44\n",
       "..               ...    ...\n",
       "523           U5RTE2   6YU9\n",
       "524           U5RTE2   6YUA\n",
       "525           V0V766   6SYX\n",
       "526           V0V766   6SZD\n",
       "527           V0V766   6SZK\n",
       "\n",
       "[528 rows x 2 columns]"
      ]
     },
     "execution_count": 97,
     "metadata": {},
     "output_type": "execute_result"
    }
   ],
   "source": [
    "nickel_pdb"
   ]
  },
  {
   "cell_type": "markdown",
   "id": "9d020146",
   "metadata": {},
   "source": [
    "We have now retrieved pdb ids from the list ofuniprot ids with nickel cation binding"
   ]
  },
  {
   "cell_type": "code",
   "execution_count": null,
   "id": "227a1483",
   "metadata": {},
   "outputs": [],
   "source": []
  }
 ],
 "metadata": {
  "kernelspec": {
   "display_name": "Python 3.9.7 ('base')",
   "language": "python",
   "name": "python3"
  },
  "language_info": {
   "codemirror_mode": {
    "name": "ipython",
    "version": 3
   },
   "file_extension": ".py",
   "mimetype": "text/x-python",
   "name": "python",
   "nbconvert_exporter": "python",
   "pygments_lexer": "ipython3",
   "version": "3.9.7"
  },
  "vscode": {
   "interpreter": {
    "hash": "9b7c7e4d3d64c2d75006b16a27959bd9cf50da9bca4e089bc526702dfbc73a9c"
   }
  }
 },
 "nbformat": 4,
 "nbformat_minor": 5
}
